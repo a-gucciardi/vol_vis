{
 "cells": [
  {
   "cell_type": "code",
   "execution_count": 4,
   "metadata": {},
   "outputs": [],
   "source": [
    "import nibabel as nib\n",
    "from nibabel.freesurfer.io import read_geometry \n",
    "import matplotlib.pyplot as plt\n",
    "import numpy as np"
   ]
  },
  {
   "cell_type": "markdown",
   "metadata": {},
   "source": [
    "# 1 Select a Nifti origin input\n",
    "And synthseg it "
   ]
  },
  {
   "cell_type": "code",
   "execution_count": 5,
   "metadata": {},
   "outputs": [],
   "source": [
    "source = \"/Users/arnaud/Documents/GitHub/RESEARCH-MRI-Analysis/code/volumes/001/mri/orig/001.mgz\""
   ]
  },
  {
   "cell_type": "markdown",
   "metadata": {},
   "source": [
    "Many options possible, iterations todo.  \n",
    "Base version took 10 mins"
   ]
  },
  {
   "cell_type": "code",
   "execution_count": 8,
   "metadata": {},
   "outputs": [],
   "source": [
    "# !mri_synthseg --i $source --o synthseg "
   ]
  },
  {
   "cell_type": "markdown",
   "metadata": {},
   "source": [
    "The synthseg output is the equivalent of the aseg from freesurfer, and assigns labels to each voxel of the input.  \n",
    "From this we create a separate nifti for each segmented (and detected ) part"
   ]
  },
  {
   "cell_type": "code",
   "execution_count": 9,
   "metadata": {},
   "outputs": [],
   "source": [
    "# Freesurfer label mapping\n",
    "index_to_label = {}\n",
    "with open('/Applications/freesurfer/FreeSurferColorLUT.txt', 'r') as file:\n",
    "    for line in file:\n",
    "        # comments or empty\n",
    "        if line.startswith('#') or not line.strip():\n",
    "            continue\n",
    "\n",
    "        parts = line.split()\n",
    "        index = int(parts[0])\n",
    "        label_name = ' '.join(parts[1:-4])\n",
    "        index_to_label[index] = label_name"
   ]
  },
  {
   "cell_type": "code",
   "execution_count": 21,
   "metadata": {},
   "outputs": [
    {
     "data": {
      "text/plain": [
       "<nibabel.freesurfer.mghformat.MGHImage at 0x1250dfb10>"
      ]
     },
     "execution_count": 21,
     "metadata": {},
     "output_type": "execute_result"
    }
   ],
   "source": [
    "img = nib.load('synthseg/001_synthseg.mgz')\n",
    "array = img.get_fdata()\n",
    "img"
   ]
  },
  {
   "cell_type": "code",
   "execution_count": 29,
   "metadata": {},
   "outputs": [],
   "source": [
    "wm_leftpart = (array == 2)\n",
    "wm_img = nib.MGHImage(wm_leftpart.astype(np.uint8), img.affine, img.header)\n",
    "nib.save(wm_img, \"wm_img.mgz\")"
   ]
  },
  {
   "cell_type": "code",
   "execution_count": 31,
   "metadata": {},
   "outputs": [
    {
     "name": "stdout",
     "output_type": "stream",
     "text": [
      "0_Unknown detected\n",
      "1_Left-Cerebral-Exterior  X no seg\n",
      "2_Left-Cerebral-White-Matter detected\n",
      "3_Left-Cerebral-Cortex detected\n",
      "4_Left-Lateral-Ventricle detected\n",
      "5_Left-Inf-Lat-Vent detected\n",
      "6_Left-Cerebellum-Exterior  X no seg\n",
      "7_Left-Cerebellum-White-Matter detected\n",
      "8_Left-Cerebellum-Cortex detected\n",
      "9_Left-Thalamus-unused  X no seg\n",
      "10_Left-Thalamus detected\n",
      "11_Left-Caudate detected\n",
      "12_Left-Putamen detected\n",
      "13_Left-Pallidum detected\n",
      "14_3rd-Ventricle detected\n",
      "15_4th-Ventricle detected\n",
      "16_Brain-Stem detected\n",
      "17_Left-Hippocampus detected\n",
      "18_Left-Amygdala detected\n",
      "19_Left-Insula  X no seg\n",
      "20_Left-Operculum  X no seg\n",
      "21_Line-1  X no seg\n",
      "22_Line-2  X no seg\n",
      "23_Line-3  X no seg\n",
      "24_CSF detected\n",
      "25_Left-Lesion  X no seg\n",
      "26_Left-Accumbens-area detected\n",
      "27_Left-Substancia-Nigra  X no seg\n",
      "28_Left-VentralDC detected\n",
      "29_Left-undetermined  X no seg\n",
      "30_Left-vessel  X no seg\n",
      "31_Left-choroid-plexus  X no seg\n",
      "32_Left-F3orb  X no seg\n",
      "33_Left-aOg  X no seg\n",
      "34_Left-WMCrowns  X no seg\n",
      "35_Left-mOg  X no seg\n",
      "36_Left-pOg  X no seg\n",
      "37_Left-Stellate  X no seg\n",
      "38_Left-Porg  X no seg\n",
      "39_Left-Aorg  X no seg\n",
      "40_Right-Cerebral-Exterior  X no seg\n",
      "41_Right-Cerebral-White-Matter detected\n",
      "42_Right-Cerebral-Cortex detected\n",
      "43_Right-Lateral-Ventricle detected\n",
      "44_Right-Inf-Lat-Vent detected\n",
      "45_Right-Cerebellum-Exterior  X no seg\n",
      "46_Right-Cerebellum-White-Matter detected\n",
      "47_Right-Cerebellum-Cortex detected\n",
      "48_Right-Thalamus-unused  X no seg\n",
      "49_Right-Thalamus detected\n",
      "50_Right-Caudate detected\n",
      "51_Right-Putamen detected\n",
      "52_Right-Pallidum detected\n",
      "53_Right-Hippocampus detected\n",
      "54_Right-Amygdala detected\n",
      "55_Right-Insula  X no seg\n",
      "56_Right-Operculum  X no seg\n",
      "57_Right-Lesion  X no seg\n",
      "58_Right-Accumbens-area detected\n",
      "59_Right-Substancia-Nigra  X no seg\n",
      "60_Right-VentralDC detected\n"
     ]
    }
   ],
   "source": [
    "img = nib.load('synthseg/001_synthseg.mgz')\n",
    "array = img.get_fdata()\n",
    "# Up to 60 only for now, faster \n",
    "for lbl in range(61):\n",
    "    seg_part = (array == lbl)\n",
    "    # print(seg_part.size)\n",
    "    if seg_part.astype(np.uint8).any():\n",
    "        # Nifti\n",
    "        label_img_nii = nib.Nifti1Image(seg_part.astype(np.uint8), img.affine, img.header)\n",
    "        nib.save(label_img_nii, f\"synthseg/nifti/{lbl}_{index_to_label[lbl]}.nii.gz\")\n",
    "        # MGZ (freesurfer format)\n",
    "        label_img_mgz = nib.Nifti1Image(seg_part.astype(np.uint8), img.affine, img.header)\n",
    "        nib.save(label_img_mgz, f\"synthseg/mgz/{lbl}_{index_to_label[lbl]}.mgz\")\n",
    "\n",
    "        print(f\"{lbl}_{index_to_label[lbl]} detected\")\n",
    "    else : print(f\"{lbl}_{index_to_label[lbl]}  X no seg\")"
   ]
  },
  {
   "cell_type": "code",
   "execution_count": 13,
   "metadata": {},
   "outputs": [
    {
     "data": {
      "text/plain": [
       "False"
      ]
     },
     "execution_count": 13,
     "metadata": {},
     "output_type": "execute_result"
    }
   ],
   "source": [
    "left_cereb_ext = 6 \n",
    "left_cereb = (array == left_cereb_ext)\n",
    "left_cereb.astype(np.uint8).any()"
   ]
  },
  {
   "cell_type": "markdown",
   "metadata": {},
   "source": [
    "# 2 Nifti to mesh with nii2mesh\n",
    "Different mesh options, vtk prob better.  \n",
    "By default, nii2mesh uses an enhanced Marching Cubes algorithm to convert voxels to a triangular mesh.  "
   ]
  },
  {
   "cell_type": "code",
   "execution_count": 1,
   "metadata": {},
   "outputs": [
    {
     "name": "stdout",
     "output_type": "stream",
     "text": [
      "Processing: ./synthseg/0_Unknown.nii.gz , basename : 0_Unknown\n",
      "Processing: ./synthseg/10_Left-Thalamus.nii.gz , basename : 10_Left-Thalamus\n",
      "Processing: ./synthseg/11_Left-Caudate.nii.gz , basename : 11_Left-Caudate\n",
      "Processing: ./synthseg/12_Left-Putamen.nii.gz , basename : 12_Left-Putamen\n",
      "Processing: ./synthseg/13_Left-Pallidum.nii.gz , basename : 13_Left-Pallidum\n",
      "Processing: ./synthseg/14_3rd-Ventricle.nii.gz , basename : 14_3rd-Ventricle\n",
      "Processing: ./synthseg/15_4th-Ventricle.nii.gz , basename : 15_4th-Ventricle\n",
      "Processing: ./synthseg/16_Brain-Stem.nii.gz , basename : 16_Brain-Stem\n",
      "Processing: ./synthseg/17_Left-Hippocampus.nii.gz , basename : 17_Left-Hippocampus\n",
      "Processing: ./synthseg/18_Left-Amygdala.nii.gz , basename : 18_Left-Amygdala\n",
      "Processing: ./synthseg/24_CSF.nii.gz , basename : 24_CSF\n",
      "Processing: ./synthseg/26_Left-Accumbens-area.nii.gz , basename : 26_Left-Accumbens-area\n",
      "Processing: ./synthseg/28_Left-VentralDC.nii.gz , basename : 28_Left-VentralDC\n",
      "Processing: ./synthseg/2_Left-Cerebral-White-Matter.nii.gz , basename : 2_Left-Cerebral-White-Matter\n",
      "Processing: ./synthseg/3_Left-Cerebral-Cortex.nii.gz , basename : 3_Left-Cerebral-Cortex\n",
      "Processing: ./synthseg/41_Right-Cerebral-White-Matter.nii.gz , basename : 41_Right-Cerebral-White-Matter\n",
      "Processing: ./synthseg/42_Right-Cerebral-Cortex.nii.gz , basename : 42_Right-Cerebral-Cortex\n",
      "Processing: ./synthseg/43_Right-Lateral-Ventricle.nii.gz , basename : 43_Right-Lateral-Ventricle\n",
      "Processing: ./synthseg/44_Right-Inf-Lat-Vent.nii.gz , basename : 44_Right-Inf-Lat-Vent\n",
      "Processing: ./synthseg/46_Right-Cerebellum-White-Matter.nii.gz , basename : 46_Right-Cerebellum-White-Matter\n",
      "Processing: ./synthseg/47_Right-Cerebellum-Cortex.nii.gz , basename : 47_Right-Cerebellum-Cortex\n",
      "Processing: ./synthseg/49_Right-Thalamus.nii.gz , basename : 49_Right-Thalamus\n",
      "Processing: ./synthseg/4_Left-Lateral-Ventricle.nii.gz , basename : 4_Left-Lateral-Ventricle\n",
      "Processing: ./synthseg/50_Right-Caudate.nii.gz , basename : 50_Right-Caudate\n",
      "Processing: ./synthseg/51_Right-Putamen.nii.gz , basename : 51_Right-Putamen\n",
      "Processing: ./synthseg/52_Right-Pallidum.nii.gz , basename : 52_Right-Pallidum\n",
      "Processing: ./synthseg/53_Right-Hippocampus.nii.gz , basename : 53_Right-Hippocampus\n",
      "Processing: ./synthseg/54_Right-Amygdala.nii.gz , basename : 54_Right-Amygdala\n",
      "Processing: ./synthseg/58_Right-Accumbens-area.nii.gz , basename : 58_Right-Accumbens-area\n",
      "Processing: ./synthseg/5_Left-Inf-Lat-Vent.nii.gz , basename : 5_Left-Inf-Lat-Vent\n",
      "Processing: ./synthseg/60_Right-VentralDC.nii.gz , basename : 60_Right-VentralDC\n",
      "Processing: ./synthseg/7_Left-Cerebellum-White-Matter.nii.gz , basename : 7_Left-Cerebellum-White-Matter\n",
      "Processing: ./synthseg/8_Left-Cerebellum-Cortex.nii.gz , basename : 8_Left-Cerebellum-Cortex\n"
     ]
    }
   ],
   "source": [
    "!./meshing.sh"
   ]
  },
  {
   "cell_type": "markdown",
   "metadata": {},
   "source": [
    "# 3 Database\n",
    "and then only, add for marching cubes / other metics calculation"
   ]
  },
  {
   "cell_type": "code",
   "execution_count": 2,
   "metadata": {},
   "outputs": [
    {
     "ename": "AttributeError",
     "evalue": "module 'pyvista' has no attribute 'UniformGrid'",
     "output_type": "error",
     "traceback": [
      "\u001b[0;31m---------------------------------------------------------------------------\u001b[0m",
      "\u001b[0;31mAttributeError\u001b[0m                            Traceback (most recent call last)",
      "Cell \u001b[0;32mIn[2], line 20\u001b[0m\n\u001b[1;32m     17\u001b[0m     \u001b[38;5;66;03m# Save as VTK\u001b[39;00m\n\u001b[1;32m     18\u001b[0m     grid\u001b[38;5;241m.\u001b[39msave(vtk_path)\n\u001b[0;32m---> 20\u001b[0m \u001b[43mconvert_nifti_to_vtk\u001b[49m\u001b[43m(\u001b[49m\u001b[38;5;124;43m\"\u001b[39;49m\u001b[38;5;124;43msynthseg/001.nii.gz\u001b[39;49m\u001b[38;5;124;43m\"\u001b[39;49m\u001b[43m,\u001b[49m\u001b[43m \u001b[49m\u001b[38;5;124;43m\"\u001b[39;49m\u001b[38;5;124;43msynthseg/001vtk_convert.vtk\u001b[39;49m\u001b[38;5;124;43m\"\u001b[39;49m\u001b[43m)\u001b[49m\n",
      "Cell \u001b[0;32mIn[2], line 11\u001b[0m, in \u001b[0;36mconvert_nifti_to_vtk\u001b[0;34m(nifti_path, vtk_path)\u001b[0m\n\u001b[1;32m      8\u001b[0m affine \u001b[38;5;241m=\u001b[39m nifti_img\u001b[38;5;241m.\u001b[39maffine\n\u001b[1;32m     10\u001b[0m \u001b[38;5;66;03m# Create a PyVista grid\u001b[39;00m\n\u001b[0;32m---> 11\u001b[0m grid \u001b[38;5;241m=\u001b[39m \u001b[43mpv\u001b[49m\u001b[38;5;241;43m.\u001b[39;49m\u001b[43mUniformGrid\u001b[49m()\n\u001b[1;32m     12\u001b[0m grid\u001b[38;5;241m.\u001b[39mdimensions \u001b[38;5;241m=\u001b[39m data\u001b[38;5;241m.\u001b[39mshape\n\u001b[1;32m     13\u001b[0m grid\u001b[38;5;241m.\u001b[39mspacing \u001b[38;5;241m=\u001b[39m (affine[\u001b[38;5;241m0\u001b[39m, \u001b[38;5;241m0\u001b[39m], affine[\u001b[38;5;241m1\u001b[39m, \u001b[38;5;241m1\u001b[39m], affine[\u001b[38;5;241m2\u001b[39m, \u001b[38;5;241m2\u001b[39m])\n",
      "File \u001b[0;32m~/.local/lib/python3.11/site-packages/pyvista/__init__.py:113\u001b[0m, in \u001b[0;36m__getattr__\u001b[0;34m(name)\u001b[0m\n\u001b[1;32m    111\u001b[0m     feature \u001b[38;5;241m=\u001b[39m inspect\u001b[38;5;241m.\u001b[39mgetattr_static(sys\u001b[38;5;241m.\u001b[39mmodules[\u001b[38;5;124m'\u001b[39m\u001b[38;5;124mpyvista.plotting\u001b[39m\u001b[38;5;124m'\u001b[39m], name)\n\u001b[1;32m    112\u001b[0m \u001b[38;5;28;01mexcept\u001b[39;00m \u001b[38;5;167;01mAttributeError\u001b[39;00m:\n\u001b[0;32m--> 113\u001b[0m     \u001b[38;5;28;01mraise\u001b[39;00m \u001b[38;5;167;01mAttributeError\u001b[39;00m(\u001b[38;5;124mf\u001b[39m\u001b[38;5;124m\"\u001b[39m\u001b[38;5;124mmodule \u001b[39m\u001b[38;5;124m'\u001b[39m\u001b[38;5;124mpyvista\u001b[39m\u001b[38;5;124m'\u001b[39m\u001b[38;5;124m has no attribute \u001b[39m\u001b[38;5;124m'\u001b[39m\u001b[38;5;132;01m{\u001b[39;00mname\u001b[38;5;132;01m}\u001b[39;00m\u001b[38;5;124m'\u001b[39m\u001b[38;5;124m\"\u001b[39m) \u001b[38;5;28;01mfrom\u001b[39;00m \u001b[38;5;28;01mNone\u001b[39;00m\n\u001b[1;32m    115\u001b[0m \u001b[38;5;28;01mreturn\u001b[39;00m feature\n",
      "\u001b[0;31mAttributeError\u001b[0m: module 'pyvista' has no attribute 'UniformGrid'"
     ]
    }
   ],
   "source": [
    "import nibabel as nib\n",
    "import pyvista as pv\n",
    "# import sqlite3\n",
    "\n",
    "def convert_nifti_to_vtk(nifti_path, vtk_path):\n",
    "    nifti_img = nib.load(nifti_path)\n",
    "    data = nifti_img.get_fdata()\n",
    "    affine = nifti_img.affine\n",
    "\n",
    "    # Create a PyVista grid\n",
    "    grid = pv.UniformGrid()\n",
    "    grid.dimensions = data.shape\n",
    "    grid.spacing = (affine[0, 0], affine[1, 1], affine[2, 2])\n",
    "    grid.origin = (affine[0, 3], affine[1, 3], affine[2, 3])\n",
    "    grid.point_data[\"values\"] = data.flatten(order=\"F\")\n",
    "\n",
    "    # Save as VTK\n",
    "    grid.save(vtk_path)\n",
    "\n"
   ]
  }
 ],
 "metadata": {
  "kernelspec": {
   "display_name": "siamese",
   "language": "python",
   "name": "python3"
  },
  "language_info": {
   "codemirror_mode": {
    "name": "ipython",
    "version": 3
   },
   "file_extension": ".py",
   "mimetype": "text/x-python",
   "name": "python",
   "nbconvert_exporter": "python",
   "pygments_lexer": "ipython3",
   "version": "3.11.7"
  }
 },
 "nbformat": 4,
 "nbformat_minor": 2
}
