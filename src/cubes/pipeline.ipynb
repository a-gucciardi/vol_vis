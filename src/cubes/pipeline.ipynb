{
 "cells": [
  {
   "cell_type": "code",
   "execution_count": 1,
   "metadata": {},
   "outputs": [],
   "source": [
    "import nibabel as nib\n",
    "from nibabel.freesurfer.io import read_geometry \n",
    "import matplotlib.pyplot as plt\n",
    "import numpy as np"
   ]
  },
  {
   "cell_type": "markdown",
   "metadata": {},
   "source": [
    "# 1 Select a Nifti origin input\n",
    "And synthseg it "
   ]
  },
  {
   "cell_type": "code",
   "execution_count": 3,
   "metadata": {},
   "outputs": [],
   "source": [
    "source = \"/Users/arnaud/Documents/GitHub/RESEARCH-MRI-Analysis/code/volumes/001/mri/orig/001.mgz\""
   ]
  },
  {
   "cell_type": "markdown",
   "metadata": {},
   "source": [
    "Many options possible, iterations todo.  \n",
    "Base version took 10 mins"
   ]
  },
  {
   "cell_type": "code",
   "execution_count": 4,
   "metadata": {},
   "outputs": [
    {
     "name": "stdout",
     "output_type": "stream",
     "text": [
      "SynthSeg 2.0\n",
      "using 1 thread\n",
      "addctab  True\n",
      "predicting 1/1\n",
      "1/1 [==============================] - 578s 578s/step\n",
      "\n",
      "segmentation  saved in:    /Users/arnaud/Documents/GitHub/vol_vis/src/cubes/synthseg/001_synthseg.mgz\n",
      "\n",
      "#@# mri_synthseg vmpeak  None\n",
      "\n",
      "If you use this tool in a publication, please cite:\n",
      "SynthSeg: Segmentation of brain MRI scans of any contrast and resolution without retraining\n",
      "B. Billot, D.N. Greve, O. Puonti, A. Thielscher, K. Van Leemput, B. Fischl, A.V. Dalca, J.E. Iglesias\n",
      "Medical Image Analysis, 2023.\n"
     ]
    }
   ],
   "source": [
    "!mri_synthseg --i $source --o synthseg "
   ]
  },
  {
   "cell_type": "markdown",
   "metadata": {},
   "source": [
    "The synthseg output is the equivalent of the aseg from freesurfer, and assigns labels to each voxel of the input.  \n",
    "From this we create a separate nifti for each segmented (and detected ) part"
   ]
  },
  {
   "cell_type": "code",
   "execution_count": 5,
   "metadata": {},
   "outputs": [],
   "source": [
    "# Freesurfer label mapping\n",
    "index_to_label = {}\n",
    "with open('/Applications/freesurfer/FreeSurferColorLUT.txt', 'r') as file:\n",
    "    for line in file:\n",
    "        # comments or empty\n",
    "        if line.startswith('#') or not line.strip():\n",
    "            continue\n",
    "\n",
    "        parts = line.split()\n",
    "        index = int(parts[0])\n",
    "        label_name = ' '.join(parts[1:-4])\n",
    "        index_to_label[index] = label_name"
   ]
  },
  {
   "cell_type": "code",
   "execution_count": 16,
   "metadata": {},
   "outputs": [
    {
     "name": "stdout",
     "output_type": "stream",
     "text": [
      "1_Left-Cerebral-Exterior no seg\n",
      "6_Left-Cerebellum-Exterior no seg\n",
      "9_Left-Thalamus-unused no seg\n",
      "19_Left-Insula no seg\n",
      "20_Left-Operculum no seg\n",
      "21_Line-1 no seg\n",
      "22_Line-2 no seg\n",
      "23_Line-3 no seg\n",
      "25_Left-Lesion no seg\n",
      "27_Left-Substancia-Nigra no seg\n",
      "29_Left-undetermined no seg\n",
      "30_Left-vessel no seg\n",
      "31_Left-choroid-plexus no seg\n",
      "32_Left-F3orb no seg\n",
      "33_Left-aOg no seg\n",
      "34_Left-WMCrowns no seg\n",
      "35_Left-mOg no seg\n",
      "36_Left-pOg no seg\n",
      "37_Left-Stellate no seg\n",
      "38_Left-Porg no seg\n",
      "39_Left-Aorg no seg\n",
      "40_Right-Cerebral-Exterior no seg\n",
      "45_Right-Cerebellum-Exterior no seg\n",
      "48_Right-Thalamus-unused no seg\n",
      "55_Right-Insula no seg\n",
      "56_Right-Operculum no seg\n",
      "57_Right-Lesion no seg\n",
      "59_Right-Substancia-Nigra no seg\n"
     ]
    }
   ],
   "source": [
    "img = nib.load('synthseg/001_synthseg.mgz')\n",
    "array = img.get_fdata()\n",
    "# Up to 60 only for now, faster \n",
    "for lbl in range(61):\n",
    "    seg_part = (array == lbl)\n",
    "    # print(seg_part.size)\n",
    "    if seg_part.astype(np.uint8).any():\n",
    "        label_img = nib.Nifti1Image(seg_part.astype(np.uint8), img.affine, img.header)\n",
    "        nib.save(label_img, f\"synthseg/{lbl}_{index_to_label[lbl]}.nii.gz\")\n",
    "    else : print(f\"{lbl}_{index_to_label[lbl]} no seg\")"
   ]
  },
  {
   "cell_type": "code",
   "execution_count": 13,
   "metadata": {},
   "outputs": [
    {
     "data": {
      "text/plain": [
       "False"
      ]
     },
     "execution_count": 13,
     "metadata": {},
     "output_type": "execute_result"
    }
   ],
   "source": [
    "left_cereb_ext = 6 \n",
    "left_cereb = (array == left_cereb_ext)\n",
    "left_cereb.astype(np.uint8).any()"
   ]
  },
  {
   "cell_type": "markdown",
   "metadata": {},
   "source": [
    "# 2 Nifti to mesh with nii2mesh\n",
    "Different mesh options, vtk prob better.  \n",
    "By default, nii2mesh uses an enhanced Marching Cubes algorithm to convert voxels to a triangular mesh.  "
   ]
  },
  {
   "cell_type": "code",
   "execution_count": 1,
   "metadata": {},
   "outputs": [
    {
     "name": "stdout",
     "output_type": "stream",
     "text": [
      "Processing: ./synthseg/0_Unknown.nii.gz , basename : 0_Unknown\n",
      "Processing: ./synthseg/10_Left-Thalamus.nii.gz , basename : 10_Left-Thalamus\n",
      "Processing: ./synthseg/11_Left-Caudate.nii.gz , basename : 11_Left-Caudate\n",
      "Processing: ./synthseg/12_Left-Putamen.nii.gz , basename : 12_Left-Putamen\n",
      "Processing: ./synthseg/13_Left-Pallidum.nii.gz , basename : 13_Left-Pallidum\n",
      "Processing: ./synthseg/14_3rd-Ventricle.nii.gz , basename : 14_3rd-Ventricle\n",
      "Processing: ./synthseg/15_4th-Ventricle.nii.gz , basename : 15_4th-Ventricle\n",
      "Processing: ./synthseg/16_Brain-Stem.nii.gz , basename : 16_Brain-Stem\n",
      "Processing: ./synthseg/17_Left-Hippocampus.nii.gz , basename : 17_Left-Hippocampus\n",
      "Processing: ./synthseg/18_Left-Amygdala.nii.gz , basename : 18_Left-Amygdala\n",
      "Processing: ./synthseg/24_CSF.nii.gz , basename : 24_CSF\n",
      "Processing: ./synthseg/26_Left-Accumbens-area.nii.gz , basename : 26_Left-Accumbens-area\n",
      "Processing: ./synthseg/28_Left-VentralDC.nii.gz , basename : 28_Left-VentralDC\n",
      "Processing: ./synthseg/2_Left-Cerebral-White-Matter.nii.gz , basename : 2_Left-Cerebral-White-Matter\n",
      "Processing: ./synthseg/3_Left-Cerebral-Cortex.nii.gz , basename : 3_Left-Cerebral-Cortex\n",
      "Processing: ./synthseg/41_Right-Cerebral-White-Matter.nii.gz , basename : 41_Right-Cerebral-White-Matter\n",
      "Processing: ./synthseg/42_Right-Cerebral-Cortex.nii.gz , basename : 42_Right-Cerebral-Cortex\n",
      "Processing: ./synthseg/43_Right-Lateral-Ventricle.nii.gz , basename : 43_Right-Lateral-Ventricle\n",
      "Processing: ./synthseg/44_Right-Inf-Lat-Vent.nii.gz , basename : 44_Right-Inf-Lat-Vent\n",
      "Processing: ./synthseg/46_Right-Cerebellum-White-Matter.nii.gz , basename : 46_Right-Cerebellum-White-Matter\n",
      "Processing: ./synthseg/47_Right-Cerebellum-Cortex.nii.gz , basename : 47_Right-Cerebellum-Cortex\n",
      "Processing: ./synthseg/49_Right-Thalamus.nii.gz , basename : 49_Right-Thalamus\n",
      "Processing: ./synthseg/4_Left-Lateral-Ventricle.nii.gz , basename : 4_Left-Lateral-Ventricle\n",
      "Processing: ./synthseg/50_Right-Caudate.nii.gz , basename : 50_Right-Caudate\n",
      "Processing: ./synthseg/51_Right-Putamen.nii.gz , basename : 51_Right-Putamen\n",
      "Processing: ./synthseg/52_Right-Pallidum.nii.gz , basename : 52_Right-Pallidum\n",
      "Processing: ./synthseg/53_Right-Hippocampus.nii.gz , basename : 53_Right-Hippocampus\n",
      "Processing: ./synthseg/54_Right-Amygdala.nii.gz , basename : 54_Right-Amygdala\n",
      "Processing: ./synthseg/58_Right-Accumbens-area.nii.gz , basename : 58_Right-Accumbens-area\n",
      "Processing: ./synthseg/5_Left-Inf-Lat-Vent.nii.gz , basename : 5_Left-Inf-Lat-Vent\n",
      "Processing: ./synthseg/60_Right-VentralDC.nii.gz , basename : 60_Right-VentralDC\n",
      "Processing: ./synthseg/7_Left-Cerebellum-White-Matter.nii.gz , basename : 7_Left-Cerebellum-White-Matter\n",
      "Processing: ./synthseg/8_Left-Cerebellum-Cortex.nii.gz , basename : 8_Left-Cerebellum-Cortex\n"
     ]
    }
   ],
   "source": [
    "!./meshing.sh"
   ]
  }
 ],
 "metadata": {
  "kernelspec": {
   "display_name": "siamese",
   "language": "python",
   "name": "python3"
  },
  "language_info": {
   "codemirror_mode": {
    "name": "ipython",
    "version": 3
   },
   "file_extension": ".py",
   "mimetype": "text/x-python",
   "name": "python",
   "nbconvert_exporter": "python",
   "pygments_lexer": "ipython3",
   "version": "3.11.7"
  }
 },
 "nbformat": 4,
 "nbformat_minor": 2
}
