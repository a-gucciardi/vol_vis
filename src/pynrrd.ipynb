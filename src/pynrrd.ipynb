{
 "cells": [
  {
   "cell_type": "code",
   "execution_count": 2,
   "metadata": {},
   "outputs": [],
   "source": [
    "# !pip install pynrrd"
   ]
  },
  {
   "cell_type": "code",
   "execution_count": 10,
   "metadata": {},
   "outputs": [
    {
     "name": "stdout",
     "output_type": "stream",
     "text": [
      "(250, 250, 203)\n",
      "OrderedDict([('type', 'double'), ('dimension', 3), ('sizes', array([250, 250, 203])), ('endian', 'little'), ('encoding', 'gzip')])\n"
     ]
    }
   ],
   "source": [
    "import numpy as np\n",
    "import nrrd\n",
    "\n",
    "# Some sample numpy data\n",
    "# data = np.ones((250, 250, 203))\n",
    "\n",
    "# Method 1: Using random.uniform and rounding\n",
    "# data = np.round(np.random.uniform(1, 70, size=(250, 250, 203)))\n",
    "# Method 2: Using random.randint\n",
    "data = np.random.uniform(1.0, 70.0, size=(250, 250, 203))#, dtype=np.float32)  # Note: upper bound is exclusive\n",
    "filename = 'testdata.nrrd'\n",
    "\n",
    "# Write to a NRRD file\n",
    "nrrd.write(filename, data)\n",
    "\n",
    "# Read the data back from file\n",
    "readdata, header = nrrd.read(filename)\n",
    "print(readdata.shape)\n",
    "print(header)"
   ]
  },
  {
   "cell_type": "code",
   "execution_count": 5,
   "metadata": {},
   "outputs": [
    {
     "name": "stdout",
     "output_type": "stream",
     "text": [
      "(290, 290, 203)\n",
      "OrderedDict([('type', 'float'), ('dimension', 3), ('space', 'left-posterior-superior'), ('sizes', array([290, 290, 203])), ('space directions', array([[0.5, 0. , 0. ],\n",
      "       [0. , 0.5, 0. ],\n",
      "       [0. , 0. , 0.5]])), ('kinds', ['domain', 'domain', 'domain']), ('endian', 'little'), ('encoding', 'gzip'), ('space origin', array([-68.37536621,  77.8470459 , -44.89866638])), ('ITK_FileNotes', 'Created by Convert3D'), ('ITK_InputFilterName', 'NrrdImageIO'), ('aux_file', ''), ('bitpix', '64'), ('cal_max', '0'), ('cal_min', '0'), ('datatype', '64'), ('descrip', ''), ('dim[0]', '3'), ('dim[1]', '290'), ('dim[2]', '290'), ('dim[3]', '203'), ('dim[4]', '1'), ('dim[5]', '1'), ('dim[6]', '1'), ('dim[7]', '1'), ('dim_info', ''), ('intent_code', '0'), ('intent_name', ''), ('intent_p1', '0'), ('intent_p2', '0'), ('intent_p3', '0'), ('pixdim[0]', '-1'), ('pixdim[1]', '0.5'), ('pixdim[2]', '0.5'), ('pixdim[3]', '0.5'), ('pixdim[4]', '1'), ('pixdim[5]', '1'), ('pixdim[6]', '1'), ('pixdim[7]', '1'), ('qform_code', '1'), ('qform_code_name', 'NIFTI_XFORM_SCANNER_ANAT'), ('qoffset_x', '68.3754'), ('qoffset_y', '-77.847'), ('qoffset_z', '-44.8987'), ('quatern_b', '0'), ('quatern_c', '1'), ('quatern_d', '0'), ('scl_inter', '0'), ('scl_slope', '1'), ('sform_code', '1'), ('sform_code_name', 'NIFTI_XFORM_SCANNER_ANAT'), ('slice_code', ''), ('slice_duration', '0'), ('slice_end', '0'), ('slice_start', '0'), ('srow_x', '-0.5 0 0 68.3754'), ('srow_y', '0 0.5 0 -77.847'), ('srow_z', '0 0 0.5 -44.8987'), ('toffset', '0'), ('vox_offset', '352'), ('xyzt_units', '')])\n"
     ]
    }
   ],
   "source": [
    "readdata, header = nrrd.read(\"nrrd/converted_4200_T2.nrrd\")\n",
    "print(readdata.shape)\n",
    "print(header)"
   ]
  }
 ],
 "metadata": {
  "kernelspec": {
   "display_name": "siamese",
   "language": "python",
   "name": "python3"
  },
  "language_info": {
   "codemirror_mode": {
    "name": "ipython",
    "version": 3
   },
   "file_extension": ".py",
   "mimetype": "text/x-python",
   "name": "python",
   "nbconvert_exporter": "python",
   "pygments_lexer": "ipython3",
   "version": "3.11.7"
  }
 },
 "nbformat": 4,
 "nbformat_minor": 2
}
